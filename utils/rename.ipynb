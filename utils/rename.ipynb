{
 "cells": [
  {
   "cell_type": "code",
   "execution_count": 12,
   "metadata": {},
   "outputs": [],
   "source": [
    "import os"
   ]
  },
  {
   "cell_type": "code",
   "execution_count": 13,
   "metadata": {},
   "outputs": [],
   "source": [
    "from pathlib import Path\n",
    "\n",
    "DOWNLOADS = Path.home() / 'Downloads' / 'fall'"
   ]
  },
  {
   "cell_type": "code",
   "execution_count": 28,
   "metadata": {},
   "outputs": [],
   "source": [
    "import re\n",
    "\n",
    "# sort in human order (i.e. natural numerical )\n",
    "def natural_keys(text):\n",
    "    '''\n",
    "    alist.sort(key=natural_keys) sorts in human order\n",
    "    http://nedbatchelder.com/blog/200712/human_sorting.html\n",
    "    (See Toothy's implementation in the comments)\n",
    "    '''\n",
    "    # Function to extract integers from the filename to use as sorting keys\n",
    "    def atoi(text):\n",
    "        return int(text) if text.isdigit() else text\n",
    "    \n",
    "    return [atoi(c) for c in re.split(r'(\\d+)', text)]\n",
    "\n",
    "def rename_files_in_directory(directory_path):\n",
    "    # Get a list of files in the directory\n",
    "    files = os.listdir(directory_path)\n",
    "    # Sort the files to maintain any ordering\n",
    "    files = sorted(files, key=natural_keys)\n",
    "    # Initialize the starting number for file names\n",
    "    start_number = 1\n",
    "    \n",
    "    # Loop through each file in the directory\n",
    "    for filename in files:\n",
    "        # print(filename)\n",
    "        # Create the new file name with the number, preserving the file extension\n",
    "        file_extension = os.path.splitext(filename)[1]\n",
    "        new_filename = f\"{start_number}{file_extension}\"\n",
    "        \n",
    "        # Get the full path of the current and new file names\n",
    "        old_file_path = os.path.join(directory_path, filename)\n",
    "        new_file_path = os.path.join(directory_path, new_filename)\n",
    "        \n",
    "        # Rename the file\n",
    "        os.rename(old_file_path, new_file_path)\n",
    "        \n",
    "        # Increment the number for the next file\n",
    "        start_number += 1"
   ]
  },
  {
   "cell_type": "code",
   "execution_count": 29,
   "metadata": {},
   "outputs": [],
   "source": [
    "# Example usage\n",
    "directory_path = DOWNLOADS # Replace with your directory path\n",
    "rename_files_in_directory(directory_path)"
   ]
  }
 ],
 "metadata": {
  "kernelspec": {
   "display_name": "Python 3",
   "language": "python",
   "name": "python3"
  },
  "language_info": {
   "codemirror_mode": {
    "name": "ipython",
    "version": 3
   },
   "file_extension": ".py",
   "mimetype": "text/x-python",
   "name": "python",
   "nbconvert_exporter": "python",
   "pygments_lexer": "ipython3",
   "version": "3.11.5"
  }
 },
 "nbformat": 4,
 "nbformat_minor": 2
}
